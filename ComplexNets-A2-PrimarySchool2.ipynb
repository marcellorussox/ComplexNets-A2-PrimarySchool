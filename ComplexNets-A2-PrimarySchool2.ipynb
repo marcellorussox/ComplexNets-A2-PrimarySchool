{
 "cells": [
  {
   "metadata": {},
   "cell_type": "markdown",
   "source": [
    "## Table of Contents\n",
    "0. Initial Setup\n",
    "1. Utility Functions\n",
    "2. Load Networks and Metadata\n",
    "   - 2.1 Load Unweighted and Weighted Graphs\n",
    "   - 2.2 Load Metadata (School Group)\n",
    "3. Community Detection\n",
    "   - 3.1 Apply Louvain and Greedy Algorithms\n",
    "4. Network Visualization\n",
    "   - 4.1 Visualize Unweighted and Weighted Network with Community Colors\n",
    "5. School Group Analysis\n",
    "   - 5.1 Visualize Composition of Communities by School Group\n",
    "6. Discussion\n",
    "   - 6.1 Comparison Between Weighted and Unweighted Graphs\n",
    "   - 6.2 Why Weights are Relevant\n",
    "7. Conclusion\n"
   ],
   "id": "4234b19226d0c1f6"
  },
  {
   "metadata": {},
   "cell_type": "markdown",
   "source": "## 0. Initial Setup",
   "id": "a8066a51a7c7a772"
  },
  {
   "metadata": {
    "ExecuteTime": {
     "end_time": "2025-04-13T20:23:18.662541Z",
     "start_time": "2025-04-13T20:23:18.657857Z"
    }
   },
   "cell_type": "code",
   "source": [
    "import os\n",
    "import numpy as np\n",
    "import pandas as pd\n",
    "import matplotlib.pyplot as plt\n",
    "import networkx as nx\n",
    "from collections import defaultdict, Counter\n",
    "from tqdm import tqdm\n",
    "\n",
    "# Community detection\n",
    "import community as community_louvain\n",
    "from networkx.algorithms.community import greedy_modularity_communities\n",
    "from networkx.algorithms.community.quality import modularity\n",
    "\n",
    "plt.style.use(\"ggplot\")\n",
    "%matplotlib inline\n",
    "\n",
    "REPORT_FOLDER = \"report\"\n",
    "PLOTS_FOLDER = \"plots\"\n",
    "PARTITION_FOLDER = \"partitions_clu\"\n",
    "\n",
    "for folder in [REPORT_FOLDER, PLOTS_FOLDER, PARTITION_FOLDER]:\n",
    "    if not os.path.exists(folder):\n",
    "        os.makedirs(folder)\n"
   ],
   "id": "d585e7013cb209fa",
   "outputs": [],
   "execution_count": 8
  },
  {
   "metadata": {},
   "cell_type": "markdown",
   "source": "## 1. Utility Functions",
   "id": "2276785e4ada82e3"
  },
  {
   "metadata": {
    "ExecuteTime": {
     "end_time": "2025-04-13T20:23:18.713776Z",
     "start_time": "2025-04-13T20:23:18.707820Z"
    }
   },
   "cell_type": "code",
   "source": [
    "def load_network(path):\n",
    "    G = nx.read_pajek(path)\n",
    "    G = nx.Graph(G)\n",
    "    G = nx.convert_node_labels_to_integers(G)\n",
    "    return G\n",
    "\n",
    "def load_metadata(path):\n",
    "    metadata = pd.read_csv(path, sep=\" \", header=0)\n",
    "    metadata.columns = [\"Id\", \"class\"]\n",
    "    metadata[\"Id\"] = metadata[\"Id\"].astype(int) - 1\n",
    "    return dict(zip(metadata[\"Id\"], metadata[\"class\"]))\n",
    "\n",
    "def apply_greedy_community_detection(G, weight=None):\n",
    "    \"\"\"\n",
    "    Applies the Greedy Modularity algorithm to the given graph.\n",
    "\n",
    "    Parameters:\n",
    "        G (networkx.Graph): The graph on which to run community detection.\n",
    "        weight (str or None): Edge attribute to use as weight. If None, the graph is unweighted.\n",
    "\n",
    "    Returns:\n",
    "        list: A list of sets, where each set contains the nodes in one community.\n",
    "    \"\"\"\n",
    "    return list(greedy_modularity_communities(G, weight=weight))\n",
    "\n",
    "def save_partition_to_clu(partition, path, N=300):\n",
    "    \"\"\"\n",
    "    Save a partition (list of sets) to a Pajek .clu file.\n",
    "\n",
    "    Parameters:\n",
    "        partition (list of sets): Detected communities.\n",
    "        path (str): Output path to save the .clu file.\n",
    "        N (int): Total number of nodes in the graph.\n",
    "    \"\"\"\n",
    "    node_labels = [0] * N\n",
    "    for i, community in enumerate(partition):\n",
    "        for node in community:\n",
    "            node_labels[node] = i + 1  # Pajek indexing starts from 1\n",
    "\n",
    "    with open(path, 'w') as f:\n",
    "        f.write(f\"*Vertices {N}\\n\")\n",
    "        for label in node_labels:\n",
    "            f.write(f\"{label}\\n\")\n",
    "\n",
    "def draw_partitioned_graph(G, partition, layout, title, filename):\n",
    "    colors = [\n",
    "        '#e6194b', '#3cb44b', '#ffe119', '#4363d8', '#f58231',\n",
    "        '#911eb4', '#46f0f0', '#f032e6', '#bcf60c', '#fabebe',\n",
    "        '#008080', '#e6beff', '#9a6324', '#fffac8', '#800000',\n",
    "        '#aaffc3', '#808000', '#ffd8b1', '#000075', '#808080'\n",
    "    ]\n",
    "    node_color = [None] * G.number_of_nodes()\n",
    "    for i, community in enumerate(partition):\n",
    "        for node in community:\n",
    "            node_color[node] = colors[i % len(colors)]\n",
    "    plt.figure(figsize=(10, 10))\n",
    "    nx.draw_networkx_nodes(G, pos=layout, node_color=node_color, node_size=50, alpha=0.9)\n",
    "    nx.draw_networkx_edges(G, pos=layout, alpha=0.2)\n",
    "    plt.title(title)\n",
    "    plt.axis('off')\n",
    "    plt.savefig(os.path.join(PLOTS_FOLDER, filename), bbox_inches='tight')\n",
    "    plt.show()\n"
   ],
   "id": "f6504e143870e273",
   "outputs": [],
   "execution_count": 9
  },
  {
   "metadata": {},
   "cell_type": "markdown",
   "source": [
    "## 2. Load Networks and Metadata\n",
    "### 2.1 Load Unweighted and Weighted Graphs"
   ],
   "id": "b0bfaa83490dcd3a"
  },
  {
   "metadata": {
    "ExecuteTime": {
     "end_time": "2025-04-13T20:23:19.101202Z",
     "start_time": "2025-04-13T20:23:18.766871Z"
    }
   },
   "cell_type": "code",
   "source": [
    "unweighted_path = \"data/primaryschool_u.net\"\n",
    "weighted_path = \"data/primaryschool_w.net\"\n",
    "\n",
    "G_unweighted = load_network(unweighted_path)\n",
    "G_weighted = load_network(weighted_path)\n"
   ],
   "id": "b15c41b1f5afef03",
   "outputs": [],
   "execution_count": 10
  },
  {
   "metadata": {},
   "cell_type": "markdown",
   "source": [
    "### 3. Community Detection\n",
    "#### 3.1 Apply Greedy Modularity Algorithm"
   ],
   "id": "22632a81fcf24142"
  },
  {
   "metadata": {
    "ExecuteTime": {
     "end_time": "2025-04-13T20:23:19.672839Z",
     "start_time": "2025-04-13T20:23:19.106076Z"
    }
   },
   "cell_type": "code",
   "source": [
    "greedy_partitions = {\n",
    "    \"unweighted\": apply_greedy_community_detection(G_unweighted),\n",
    "    \"weighted\": apply_greedy_community_detection(G_weighted, weight=\"weight\")\n",
    "}\n",
    "\n",
    "# Save partitions to .clu files\n",
    "for kind, partition in greedy_partitions.items():\n",
    "    path = os.path.join(PARTITION_FOLDER, f\"greedy_{kind}.clu\")\n",
    "    save_partition_to_clu(partition, path, N=G_unweighted.number_of_nodes())\n"
   ],
   "id": "63923968490b7791",
   "outputs": [],
   "execution_count": 11
  },
  {
   "metadata": {},
   "cell_type": "markdown",
   "source": [
    "## 4. Network Visualization\n",
    "### 4.1 Visualize Unweighted and Weighted Network with Community Colors"
   ],
   "id": "2c6051b55df493b2"
  },
  {
   "metadata": {
    "ExecuteTime": {
     "end_time": "2025-04-13T20:25:48.627812Z",
     "start_time": "2025-04-13T20:25:47.183255Z"
    }
   },
   "cell_type": "code",
   "source": [
    "G_weighted_inv = G_weighted.copy()\n",
    "for u, v, d in G_weighted_inv.edges(data=True):\n",
    "    d['inv_weight'] = 1.0 / d['weight'] if d['weight'] > 0 else 0.0\n",
    "\n",
    "layout = nx.kamada_kawai_layout(G_weighted_inv, weight=\"inv_weight\")\n",
    "\n",
    "draw_partitioned_graph(G_unweighted, greedy_partitions[\"unweighted\"], layout,\n",
    "                       \"Greedy - Unweighted Network\", \"greedy_unweighted_network.png\")\n",
    "\n",
    "draw_partitioned_graph(G_weighted, greedy_partitions[\"weighted\"], layout,\n",
    "                       \"Greedy - Weighted Network\", \"greedy_weighted_network.png\")"
   ],
   "id": "2006f53926a149d3",
   "outputs": [
    {
     "ename": "ModuleNotFoundError",
     "evalue": "No module named 'scipy'",
     "output_type": "error",
     "traceback": [
      "\u001B[31m---------------------------------------------------------------------------\u001B[39m",
      "\u001B[31mModuleNotFoundError\u001B[39m                       Traceback (most recent call last)",
      "\u001B[36mCell\u001B[39m\u001B[36m \u001B[39m\u001B[32mIn[13]\u001B[39m\u001B[32m, line 5\u001B[39m\n\u001B[32m      2\u001B[39m \u001B[38;5;28;01mfor\u001B[39;00m u, v, d \u001B[38;5;129;01min\u001B[39;00m G_weighted_inv.edges(data=\u001B[38;5;28;01mTrue\u001B[39;00m):\n\u001B[32m      3\u001B[39m     d[\u001B[33m'\u001B[39m\u001B[33minv_weight\u001B[39m\u001B[33m'\u001B[39m] = \u001B[32m1.0\u001B[39m / d[\u001B[33m'\u001B[39m\u001B[33mweight\u001B[39m\u001B[33m'\u001B[39m] \u001B[38;5;28;01mif\u001B[39;00m d[\u001B[33m'\u001B[39m\u001B[33mweight\u001B[39m\u001B[33m'\u001B[39m] > \u001B[32m0\u001B[39m \u001B[38;5;28;01melse\u001B[39;00m \u001B[32m0.0\u001B[39m\n\u001B[32m----> \u001B[39m\u001B[32m5\u001B[39m layout = \u001B[43mnx\u001B[49m\u001B[43m.\u001B[49m\u001B[43mkamada_kawai_layout\u001B[49m\u001B[43m(\u001B[49m\u001B[43mG_weighted_inv\u001B[49m\u001B[43m,\u001B[49m\u001B[43m \u001B[49m\u001B[43mweight\u001B[49m\u001B[43m=\u001B[49m\u001B[33;43m\"\u001B[39;49m\u001B[33;43minv_weight\u001B[39;49m\u001B[33;43m\"\u001B[39;49m\u001B[43m)\u001B[49m\n\u001B[32m      7\u001B[39m draw_partitioned_graph(G_unweighted, greedy_partitions[\u001B[33m\"\u001B[39m\u001B[33munweighted\u001B[39m\u001B[33m\"\u001B[39m], layout,\n\u001B[32m      8\u001B[39m                        \u001B[33m\"\u001B[39m\u001B[33mGreedy - Unweighted Network\u001B[39m\u001B[33m\"\u001B[39m, \u001B[33m\"\u001B[39m\u001B[33mgreedy_unweighted_network.png\u001B[39m\u001B[33m\"\u001B[39m)\n\u001B[32m     10\u001B[39m draw_partitioned_graph(G_weighted, greedy_partitions[\u001B[33m\"\u001B[39m\u001B[33mweighted\u001B[39m\u001B[33m\"\u001B[39m], layout,\n\u001B[32m     11\u001B[39m                        \u001B[33m\"\u001B[39m\u001B[33mGreedy - Weighted Network\u001B[39m\u001B[33m\"\u001B[39m, \u001B[33m\"\u001B[39m\u001B[33mgreedy_weighted_network.png\u001B[39m\u001B[33m\"\u001B[39m)\n",
      "\u001B[36mFile \u001B[39m\u001B[32m~/PycharmProjects/ComplexNets-A2-PrimarySchool/.venv/lib/python3.12/site-packages/networkx/drawing/layout.py:713\u001B[39m, in \u001B[36mkamada_kawai_layout\u001B[39m\u001B[34m(G, dist, pos, weight, scale, center, dim)\u001B[39m\n\u001B[32m    710\u001B[39m         pos = \u001B[38;5;28mdict\u001B[39m(\u001B[38;5;28mzip\u001B[39m(G, np.linspace(\u001B[32m0\u001B[39m, \u001B[32m1\u001B[39m, \u001B[38;5;28mlen\u001B[39m(G))))\n\u001B[32m    711\u001B[39m pos_arr = np.array([pos[n] \u001B[38;5;28;01mfor\u001B[39;00m n \u001B[38;5;129;01min\u001B[39;00m G])\n\u001B[32m--> \u001B[39m\u001B[32m713\u001B[39m pos = \u001B[43m_kamada_kawai_solve\u001B[49m\u001B[43m(\u001B[49m\u001B[43mdist_mtx\u001B[49m\u001B[43m,\u001B[49m\u001B[43m \u001B[49m\u001B[43mpos_arr\u001B[49m\u001B[43m,\u001B[49m\u001B[43m \u001B[49m\u001B[43mdim\u001B[49m\u001B[43m)\u001B[49m\n\u001B[32m    715\u001B[39m pos = rescale_layout(pos, scale=scale) + center\n\u001B[32m    716\u001B[39m \u001B[38;5;28;01mreturn\u001B[39;00m \u001B[38;5;28mdict\u001B[39m(\u001B[38;5;28mzip\u001B[39m(G, pos))\n",
      "\u001B[36mFile \u001B[39m\u001B[32m~/PycharmProjects/ComplexNets-A2-PrimarySchool/.venv/lib/python3.12/site-packages/networkx/drawing/layout.py:725\u001B[39m, in \u001B[36m_kamada_kawai_solve\u001B[39m\u001B[34m(dist_mtx, pos_arr, dim)\u001B[39m\n\u001B[32m    719\u001B[39m \u001B[38;5;28;01mdef\u001B[39;00m\u001B[38;5;250m \u001B[39m\u001B[34m_kamada_kawai_solve\u001B[39m(dist_mtx, pos_arr, dim):\n\u001B[32m    720\u001B[39m     \u001B[38;5;66;03m# Anneal node locations based on the Kamada-Kawai cost-function,\u001B[39;00m\n\u001B[32m    721\u001B[39m     \u001B[38;5;66;03m# using the supplied matrix of preferred inter-node distances,\u001B[39;00m\n\u001B[32m    722\u001B[39m     \u001B[38;5;66;03m# and starting locations.\u001B[39;00m\n\u001B[32m    724\u001B[39m     \u001B[38;5;28;01mimport\u001B[39;00m\u001B[38;5;250m \u001B[39m\u001B[34;01mnumpy\u001B[39;00m\u001B[38;5;250m \u001B[39m\u001B[38;5;28;01mas\u001B[39;00m\u001B[38;5;250m \u001B[39m\u001B[34;01mnp\u001B[39;00m\n\u001B[32m--> \u001B[39m\u001B[32m725\u001B[39m     \u001B[38;5;28;01mimport\u001B[39;00m\u001B[38;5;250m \u001B[39m\u001B[34;01mscipy\u001B[39;00m\u001B[38;5;250m \u001B[39m\u001B[38;5;28;01mas\u001B[39;00m\u001B[38;5;250m \u001B[39m\u001B[34;01msp\u001B[39;00m\n\u001B[32m    727\u001B[39m     meanwt = \u001B[32m1e-3\u001B[39m\n\u001B[32m    728\u001B[39m     costargs = (np, \u001B[32m1\u001B[39m / (dist_mtx + np.eye(dist_mtx.shape[\u001B[32m0\u001B[39m]) * \u001B[32m1e-3\u001B[39m), meanwt, dim)\n",
      "\u001B[31mModuleNotFoundError\u001B[39m: No module named 'scipy'"
     ]
    }
   ],
   "execution_count": 13
  }
 ],
 "metadata": {
  "kernelspec": {
   "display_name": "Python 3",
   "language": "python",
   "name": "python3"
  },
  "language_info": {
   "codemirror_mode": {
    "name": "ipython",
    "version": 2
   },
   "file_extension": ".py",
   "mimetype": "text/x-python",
   "name": "python",
   "nbconvert_exporter": "python",
   "pygments_lexer": "ipython2",
   "version": "2.7.6"
  }
 },
 "nbformat": 4,
 "nbformat_minor": 5
}
